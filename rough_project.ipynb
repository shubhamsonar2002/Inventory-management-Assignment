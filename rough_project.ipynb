{
 "cells": [
  {
   "cell_type": "code",
   "execution_count": 3,
   "id": "dc46449e-63a8-4fe6-b58c-2c76075a0331",
   "metadata": {},
   "outputs": [],
   "source": [
    "import json"
   ]
  },
  {
   "cell_type": "code",
   "execution_count": 4,
   "id": "beffad15-7445-4497-a5d5-25719411a3c9",
   "metadata": {
    "tags": []
   },
   "outputs": [],
   "source": [
    "#reading data from original_data.json file\n",
    "c = open('original_data.json','r') \n",
    "d = c.read()\n",
    "c.close()"
   ]
  },
  {
   "cell_type": "code",
   "execution_count": 5,
   "id": "bd2cc9bb-81b0-4ab3-a391-b353293074af",
   "metadata": {
    "tags": []
   },
   "outputs": [],
   "source": [
    "f = json.loads(d)"
   ]
  },
  {
   "cell_type": "code",
   "execution_count": 6,
   "id": "8b8959f8-8faf-4415-b469-5fa9891b3adc",
   "metadata": {},
   "outputs": [
    {
     "name": "stdin",
     "output_type": "stream",
     "text": [
      "how many product do you want to parchase : 1\n",
      "Enter barcode of parchaced product : 100101\n",
      "Enter quantity you want : 2\n"
     ]
    },
    {
     "name": "stdout",
     "output_type": "stream",
     "text": [
      "Product_name: Cricket_Bat |  Price of each item: 600 |  Quantity you entered: 2\n",
      "Your total bill is : 1200\n"
     ]
    }
   ],
   "source": [
    "barno = []\n",
    "Qty = []\n",
    "total = []\n",
    "flag = 0\n",
    "flag1 = 0\n",
    "#taking input \n",
    "no = int(input(\"how many product do you want to parchase :\"))\n",
    "for i in range(no):\n",
    "  barno.append(int(input(\"Enter barcode of parchaced product :\")))\n",
    "  if str(barno[i]) not in f.keys():  #special case 1\n",
    "        flag1 = 1\n",
    "        print(\"You entered invalid barcode\")\n",
    "        break\n",
    "  Qty.append(int(input(\"Enter quantity you want :\")))\n",
    "#logic behind\n",
    "for j in range(no):\n",
    "  if flag1 == 1: #handled special case 1 \n",
    "    flag=1\n",
    "    break\n",
    "  for i in f.keys():\n",
    "    if int(i) == barno[j]:\n",
    "      if Qty[j] >= f[i]['Quantity']: #spcial case 2\n",
    "        flag = 1\n",
    "        print(f\"We do not hava that much quantity of {f[i]['product_name']}\")\n",
    "        break\n",
    "      print(f\"Product_name: {f[i]['product_name']} | \",end =' ')\n",
    "      print(f\"Price of each item: {f[i]['Price']} | \",end = ' ') \n",
    "      print(f\"Quantity you entered: {Qty[j]}\")\n",
    "      total.append(int(f[i][\"Price\"])*Qty[j])\n",
    "      f[i]['Quantity'] -= Qty[j]\n",
    "if flag == 0:\n",
    "    print(f\"Your total bill is : {sum(total)}\")"
   ]
  },
  {
   "cell_type": "code",
   "execution_count": 6,
   "id": "d6dcb819-0973-4d93-a57b-e0e6df932246",
   "metadata": {},
   "outputs": [],
   "source": [
    "#updating data in updated_data.json file\n",
    "new_data = json.dumps(f)\n",
    "h = open('updated_data.json','w')\n",
    "h.write(new_data)\n",
    "h.close()"
   ]
  },
  {
   "cell_type": "code",
   "execution_count": null,
   "id": "dae441ff-9dd7-497f-9d5e-ff888064d9de",
   "metadata": {},
   "outputs": [],
   "source": []
  },
  {
   "cell_type": "code",
   "execution_count": null,
   "id": "1368ab9a-1dd3-44a3-a370-49b23563265a",
   "metadata": {},
   "outputs": [],
   "source": []
  }
 ],
 "metadata": {
  "kernelspec": {
   "display_name": "Python 3",
   "language": "python",
   "name": "python3"
  },
  "language_info": {
   "codemirror_mode": {
    "name": "ipython",
    "version": 3
   },
   "file_extension": ".py",
   "mimetype": "text/x-python",
   "name": "python",
   "nbconvert_exporter": "python",
   "pygments_lexer": "ipython3",
   "version": "3.9.1"
  }
 },
 "nbformat": 4,
 "nbformat_minor": 5
}
